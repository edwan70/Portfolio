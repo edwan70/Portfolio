{
 "cells": [
  {
   "cell_type": "markdown",
   "id": "41ef203d",
   "metadata": {
    "tags": []
   },
   "source": [
    "# Задание 2.\n",
    "Проанализировать результаты эксперимента, который мы провели вместе с командой дата сайентистов. \n",
    "Эксперимент проходил с 2023-12-29 по 2024-01-04 включительно. Для эксперимента были задействованы 2 и 1 группы.\n",
    "В группе 2 был использован один из новых алгоритмов рекомендации постов, группа 1 использовалась в качестве контроля.\n",
    "Основная гипотеза заключается в том, что новый алгоритм во 2-й группе приведет к увеличению CTR.\n",
    "Ваша задача — проанализировать данные А/B-теста. \n",
    "\n",
    "Выбрать метод анализа и сравнить CTR в двух группах (мы разбирали t-тест, Пуассоновский бутстреп, тест Манна-Уитни, t-тест на сглаженном ctr (α=5) а также t-тест и тест Манна-Уитни поверх бакетного преобразования).\n",
    "Сравните данные этими тестами. А еще посмотрите на распределения глазами. Почему тесты сработали именно так? \n",
    "Опишите потенциальную ситуацию, когда такое изменение могло произойти. Тут нет идеального ответа, подумайте.\n",
    "Напишите рекомендацию, будем ли мы раскатывать новый алгоритм на всех новых пользователей или все-таки не стоит.\n",
    "Ваше решение — это ссылка на merge request с проведенным анализом. При выполнении задания важно обосновать и аргументировать ваши ответы и выводы.\n",
    "\n",
    "### Задачи:\n",
    "1. Выбрать метод анализа и сравнить CTR в двух группах. Посмотреть на распределения глазами.\n",
    "2. Описать потенциальную ситуацию, когда такое изменение (увеличение CTR) могло произойти.\n",
    "3. Написать рекомендацию, будем ли мы раскатывать новый алгоритм на всех новых пользователей."
   ]
  },
  {
   "cell_type": "markdown",
   "id": "b907e9fd",
   "metadata": {},
   "source": [
    "### 1. Подготовка к работе"
   ]
  },
  {
   "cell_type": "code",
   "execution_count": 1,
   "id": "d86ef028-b2a1-42d8-ba27-d97dd746dc35",
   "metadata": {},
   "outputs": [],
   "source": [
    "# загрузка библиотек\n",
    "import pandas as pd\n",
    "import numpy as np\n",
    "import matplotlib.pyplot as plt\n",
    "import seaborn as sns\n",
    "import pandahouse\n",
    "from scipy import stats\n",
    "from statsmodels.stats.power import TTestIndPower\n",
    "%matplotlib inline\n",
    "%config InlineBackend.figure_format = 'retina'\n",
    "pd.set_option('display.float_format', '{:.2f}'.format)\n",
    "import warnings\n",
    "warnings.simplefilter(\"ignore\")"
   ]
  },
  {
   "cell_type": "markdown",
   "id": "9788f01a",
   "metadata": {},
   "source": [
    "### 2. Загрузка данных"
   ]
  },
  {
   "cell_type": "code",
   "execution_count": 2,
   "id": "4a5d0ffe-1c5b-40b5-ad25-cc9e979e390f",
   "metadata": {},
   "outputs": [],
   "source": [
    "#параметры соединения - нужны, чтобы подключиться к нужной схеме данных\n",
    "connection = {'host': 'https://clickhouse.lab.karpov.courses',\n",
    "'database':'simulator_20240120',\n",
    "'user':'student',\n",
    "'password':'dpo_python_2020'\n",
    "}"
   ]
  },
  {
   "cell_type": "code",
   "execution_count": 3,
   "id": "2988d4da-ad86-4a4c-9872-003fe15dd315",
   "metadata": {},
   "outputs": [
    {
     "data": {
      "text/html": [
       "<div>\n",
       "<style scoped>\n",
       "    .dataframe tbody tr th:only-of-type {\n",
       "        vertical-align: middle;\n",
       "    }\n",
       "\n",
       "    .dataframe tbody tr th {\n",
       "        vertical-align: top;\n",
       "    }\n",
       "\n",
       "    .dataframe thead th {\n",
       "        text-align: right;\n",
       "    }\n",
       "</style>\n",
       "<table border=\"1\" class=\"dataframe\">\n",
       "  <thead>\n",
       "    <tr style=\"text-align: right;\">\n",
       "      <th></th>\n",
       "      <th>user_id</th>\n",
       "      <th>exp_group</th>\n",
       "      <th>like</th>\n",
       "      <th>view</th>\n",
       "      <th>ctr</th>\n",
       "    </tr>\n",
       "  </thead>\n",
       "  <tbody>\n",
       "    <tr>\n",
       "      <th>0</th>\n",
       "      <td>109963</td>\n",
       "      <td>1</td>\n",
       "      <td>3</td>\n",
       "      <td>15</td>\n",
       "      <td>0.20</td>\n",
       "    </tr>\n",
       "    <tr>\n",
       "      <th>1</th>\n",
       "      <td>26117</td>\n",
       "      <td>1</td>\n",
       "      <td>32</td>\n",
       "      <td>141</td>\n",
       "      <td>0.23</td>\n",
       "    </tr>\n",
       "    <tr>\n",
       "      <th>2</th>\n",
       "      <td>138232</td>\n",
       "      <td>1</td>\n",
       "      <td>18</td>\n",
       "      <td>73</td>\n",
       "      <td>0.25</td>\n",
       "    </tr>\n",
       "    <tr>\n",
       "      <th>3</th>\n",
       "      <td>18392</td>\n",
       "      <td>1</td>\n",
       "      <td>7</td>\n",
       "      <td>32</td>\n",
       "      <td>0.22</td>\n",
       "    </tr>\n",
       "    <tr>\n",
       "      <th>4</th>\n",
       "      <td>26295</td>\n",
       "      <td>1</td>\n",
       "      <td>39</td>\n",
       "      <td>141</td>\n",
       "      <td>0.28</td>\n",
       "    </tr>\n",
       "    <tr>\n",
       "      <th>...</th>\n",
       "      <td>...</td>\n",
       "      <td>...</td>\n",
       "      <td>...</td>\n",
       "      <td>...</td>\n",
       "      <td>...</td>\n",
       "    </tr>\n",
       "    <tr>\n",
       "      <th>19892</th>\n",
       "      <td>17146</td>\n",
       "      <td>2</td>\n",
       "      <td>0</td>\n",
       "      <td>10</td>\n",
       "      <td>0.00</td>\n",
       "    </tr>\n",
       "    <tr>\n",
       "      <th>19893</th>\n",
       "      <td>30872</td>\n",
       "      <td>1</td>\n",
       "      <td>11</td>\n",
       "      <td>59</td>\n",
       "      <td>0.19</td>\n",
       "    </tr>\n",
       "    <tr>\n",
       "      <th>19894</th>\n",
       "      <td>25383</td>\n",
       "      <td>2</td>\n",
       "      <td>42</td>\n",
       "      <td>127</td>\n",
       "      <td>0.33</td>\n",
       "    </tr>\n",
       "    <tr>\n",
       "      <th>19895</th>\n",
       "      <td>139020</td>\n",
       "      <td>2</td>\n",
       "      <td>17</td>\n",
       "      <td>41</td>\n",
       "      <td>0.41</td>\n",
       "    </tr>\n",
       "    <tr>\n",
       "      <th>19896</th>\n",
       "      <td>17310</td>\n",
       "      <td>2</td>\n",
       "      <td>9</td>\n",
       "      <td>82</td>\n",
       "      <td>0.11</td>\n",
       "    </tr>\n",
       "  </tbody>\n",
       "</table>\n",
       "<p>19897 rows × 5 columns</p>\n",
       "</div>"
      ],
      "text/plain": [
       "       user_id  exp_group  like  view  ctr\n",
       "0       109963          1     3    15 0.20\n",
       "1        26117          1    32   141 0.23\n",
       "2       138232          1    18    73 0.25\n",
       "3        18392          1     7    32 0.22\n",
       "4        26295          1    39   141 0.28\n",
       "...        ...        ...   ...   ...  ...\n",
       "19892    17146          2     0    10 0.00\n",
       "19893    30872          1    11    59 0.19\n",
       "19894    25383          2    42   127 0.33\n",
       "19895   139020          2    17    41 0.41\n",
       "19896    17310          2     9    82 0.11\n",
       "\n",
       "[19897 rows x 5 columns]"
      ]
     },
     "execution_count": 3,
     "metadata": {},
     "output_type": "execute_result"
    }
   ],
   "source": [
    "# Запрос к БД\n",
    "query = '''\n",
    "SELECT user_id,\n",
    "       exp_group,\n",
    "       countIf(user_id, action = 'like' ) as like,\n",
    "       countIf(user_id, action = 'view' ) as view,\n",
    "       like/view as ctr\n",
    "FROM simulator_20240120.feed_actions\n",
    "WHERE (toDate(time) >= '2023-12-29' AND toDate(time) <= '2024-01-04' \n",
    "AND exp_group in [1,2])\n",
    "GROUP BY user_id, exp_group\n",
    "'''\n",
    "\n",
    "# Создание датафрейма\n",
    "df = pandahouse.read_clickhouse(query, connection=connection)\n",
    "\n",
    "df"
   ]
  },
  {
   "cell_type": "markdown",
   "id": "4dbe4373-5188-43cb-84fd-5c9db81bcf72",
   "metadata": {},
   "source": [
    "### 3. Анализ данных"
   ]
  },
  {
   "cell_type": "markdown",
   "id": "5f90790f-d491-4fc4-ae95-807dcd707eaf",
   "metadata": {},
   "source": [
    "Визуализируем распределение CTR в группах 1 и 2"
   ]
  },
  {
   "cell_type": "code",
   "execution_count": 4,
   "id": "f069a656-9fc2-4c9b-8e44-21382a0e0b4b",
   "metadata": {},
   "outputs": [
    {
     "name": "stdout",
     "output_type": "stream",
     "text": [
      "CTR_mean: 0.216773994120072\n"
     ]
    },
    {
     "data": {
      "image/png": "[encoded data removed]",
      "text/plain": [
       "<Figure size 360x360 with 1 Axes>"
      ]
     },
     "metadata": {
      "image/png": {
       "height": 351,
       "width": 352
      },
      "needs_background": "light"
     },
     "output_type": "display_data"
    }
   ],
   "source": [
    "# Распределение экспериментальной группы 1 (контроль)\n",
    "sns.displot(df[df.exp_group == 1].ctr, kde = False, bins=100);\n",
    "print('CTR_mean:', df[df.exp_group == 1].ctr.mean())"
   ]
  },
  {
   "cell_type": "code",
   "execution_count": 5,
   "id": "c0f340f2-89a1-4056-9af4-9ebb0a81db6a",
   "metadata": {},
   "outputs": [
    {
     "name": "stdout",
     "output_type": "stream",
     "text": [
      "CTR_mean: 0.2161016893237817\n"
     ]
    },
    {
     "data": {
      "image/png": "[encoded data removed]",
      "text/plain": [
       "<Figure size 360x360 with 1 Axes>"
      ]
     },
     "metadata": {
      "image/png": {
       "height": 351,
       "width": 352
      },
      "needs_background": "light"
     },
     "output_type": "display_data"
    }
   ],
   "source": [
    "# Распределение экспериментальной группы 2 (тестовая)\n",
    "sns.displot(df[df.exp_group == 2].ctr, kde = False, bins=100);\n",
    "print('CTR_mean:', df[df.exp_group == 2].ctr.mean())"
   ]
  },
  {
   "cell_type": "markdown",
   "id": "02349d18-957f-4ae6-aacc-54a7fc241e53",
   "metadata": {},
   "source": [
    "При визуальном сравнении 2х распределений можно отметить нормальный характер распределения в контрольной группе, а в тестовой группе наблюдаются два пика в районе 0.1 и в районе 0.3. Значения CTR распределились между двумя этими максимумами возле 0.1 - больше, возле 0.3 - меньше."
   ]
  },
  {
   "cell_type": "markdown",
   "id": "97c9940e-1e5b-4d8f-8911-70223ce251e6",
   "metadata": {},
   "source": [
    "**Задача 1. Выбрать метод анализа и сравнить CTR в двух группах.**"
   ]
  },
  {
   "cell_type": "markdown",
   "id": "1258e298-e0b3-4bac-be56-aab28ad81752",
   "metadata": {},
   "source": [
    "Выдвинем гипотезу, что при использовании нового алгоритма в тестовой группе 2, CTR не увеличится."
   ]
  },
  {
   "cell_type": "markdown",
   "id": "e3356d72",
   "metadata": {},
   "source": [
    "$\\blacktriangleright$ Сформулируем гипотезы:"
   ]
  },
  {
   "cell_type": "markdown",
   "id": "babf7335-70a5-479b-b3ad-e61b48cada34",
   "metadata": {},
   "source": [
    "$H_0:\\text{средние значения CTR в контрольной и тестовой группaх равны}$.\n",
    "\n",
    "$H_1:\\text{средние значения CTR в контрольной и тестовой группaх не равны, в контрольной больше}$. "
   ]
  },
  {
   "cell_type": "markdown",
   "id": "a57a1acf",
   "metadata": {},
   "source": [
    "***Пороговое значение p-value:*** 0.05"
   ]
  },
  {
   "cell_type": "markdown",
   "id": "c699d3a0",
   "metadata": {},
   "source": [
    "Поскольку распределение в тестовой группе не является нормальным, то тесты Манна-Уитни и Т-тест могут давать неверные результаты, но на всякий случай проверим."
   ]
  },
  {
   "cell_type": "markdown",
   "id": "69a12f51",
   "metadata": {},
   "source": [
    "**Задача 2.**"
   ]
  },
  {
   "cell_type": "markdown",
   "id": "7e4c982f-91bb-475d-b5c9-70f1502f9ab8",
   "metadata": {},
   "source": [
    "**Метод 1.** Использование пользовательского CTR"
   ]
  },
  {
   "cell_type": "code",
   "execution_count": 6,
   "id": "45cdca8b-bc91-4160-a59c-f0f85e0f7cd5",
   "metadata": {},
   "outputs": [
    {
     "data": {
      "text/plain": [
       "Ttest_indResult(statistic=0.4051491913112757, pvalue=0.3426866655703755)"
      ]
     },
     "execution_count": 6,
     "metadata": {},
     "output_type": "execute_result"
    }
   ],
   "source": [
    "# Сравнение параметричиским T-тестом\n",
    "stats.ttest_ind(df[df.exp_group == 1].ctr, df[df.exp_group == 2].ctr, equal_var = False, alternative='greater')"
   ]
  },
  {
   "cell_type": "code",
   "execution_count": 7,
   "id": "548b1223-7654-4477-b765-e2253354fcb5",
   "metadata": {},
   "outputs": [
    {
     "data": {
      "text/plain": [
       "MannwhitneyuResult(statistic=55189913.0, pvalue=2.316102920903013e-45)"
      ]
     },
     "execution_count": 7,
     "metadata": {},
     "output_type": "execute_result"
    }
   ],
   "source": [
    "# Сравнение непараметричиским U-критерием Манна — Уитни\n",
    "stats.mannwhitneyu(df[df.exp_group == 1].ctr, df[df.exp_group == 2].ctr, alternative='greater')"
   ]
  },
  {
   "cell_type": "markdown",
   "id": "50c8e201-9d3c-4e63-9f6e-867922828297",
   "metadata": {},
   "source": [
    "Т-тест показывает p-value значительно > 0.05, что не позволяет нам отвергнуть нулевую гипотезу и принять альтернативную гипотезу.\n",
    "Тест Манна-Уитни показывает p-value значительно < 0.05, что позволяет нам отвергнуть нулевую гипотезу и принять альтернативную гипотезу.\n",
    "\n",
    "**Вывод:** По Т-тесту средние значения CTR в экпериментальной группе и контрольной группах могут быть равны для уровня значимости 0.05, а по Манна-Уитни есть вероятность того, что средние значения CTR в экпериментальной группе могут быть меньше, чем в контрольной группе для уровня значимости 0.05."
   ]
  },
  {
   "cell_type": "markdown",
   "id": "9c40e122",
   "metadata": {},
   "source": [
    "**Метод 2.** Использование общего CTR, метод bootstrap."
   ]
  },
  {
   "cell_type": "code",
   "execution_count": 8,
   "id": "e84bdd9b-08e7-445a-8a15-45e784895add",
   "metadata": {},
   "outputs": [],
   "source": [
    "def get_global_ctr(df, exp_group, count_tests = 1000):\n",
    "    \n",
    "    \"\"\"\n",
    "    функция get_global_ctr использует метод \n",
    "    bootstrap для нахождения глобальных CTR\n",
    "    --------------------\n",
    "    Параметры:\n",
    "    df - датафрейм\n",
    "    exp_group - экспериментальная группа в датафрейме\n",
    "    count_tests - число проведенных имитаций A/B тестов\n",
    "\n",
    "    Функция возвращает: \n",
    "    pd.Series(glob_ctr_list) - Series из общих CTR\n",
    "    \"\"\"\n",
    "    \n",
    "    glob_ctr_list = []\n",
    "    for _ in range(count_tests):\n",
    "        sample_data = df[df.exp_group == exp_group].sample(frac=0.5, replace=True)\n",
    "        glob_ctr = sample_data.like.sum() / sample_data.view.sum()\n",
    "        glob_ctr_list.append(glob_ctr)\n",
    "    return pd.Series(glob_ctr_list)"
   ]
  },
  {
   "cell_type": "code",
   "execution_count": 9,
   "id": "98601180-0523-4a15-a2a4-920414627688",
   "metadata": {},
   "outputs": [],
   "source": [
    "# Сохраним полученные bootstrap-распределения CTR в переменные\n",
    "glob_ctr_group_1 = get_global_ctr(df, 1)\n",
    "glob_ctr_group_2 = get_global_ctr(df, 2)"
   ]
  },
  {
   "cell_type": "markdown",
   "id": "f3ce0f3a-46e1-4fe7-b8eb-d3350e21e609",
   "metadata": {},
   "source": [
    "Визуализируем распределения общего CTR, полученные используя метод bootstrap"
   ]
  },
  {
   "cell_type": "code",
   "execution_count": 10,
   "id": "bdd97e8d-5697-43be-b443-88ef980fd212",
   "metadata": {
    "tags": []
   },
   "outputs": [
    {
     "name": "stdout",
     "output_type": "stream",
     "text": [
      "0.20795802211639827 0.20956872275111557 0.21118056883772182\n"
     ]
    },
    {
     "data": {
      "image/png": "[encoded data removed]",
      "text/plain": [
       "<Figure size 360x360 with 1 Axes>"
      ]
     },
     "metadata": {
      "image/png": {
       "height": 352,
       "width": 352
      },
      "needs_background": "light"
     },
     "output_type": "display_data"
    }
   ],
   "source": [
    "# Распределение группы 1\n",
    "sns.displot(glob_ctr_group_1, kde = False, bins = 100);\n",
    "print(glob_ctr_group_1.quantile(0.05),\n",
    "      glob_ctr_group_1.mean(),\n",
    "      glob_ctr_group_1.quantile(0.95))"
   ]
  },
  {
   "cell_type": "code",
   "execution_count": 11,
   "id": "434b73eb-7371-470e-b5d9-1fa1929c183d",
   "metadata": {},
   "outputs": [
    {
     "name": "stdout",
     "output_type": "stream",
     "text": [
      "0.1967243750793834 0.2001732239002406 0.2035218011348755\n"
     ]
    },
    {
     "data": {
      "image/png": "[encoded data removed]",
      "text/plain": [
       "<Figure size 360x360 with 1 Axes>"
      ]
     },
     "metadata": {
      "image/png": {
       "height": 352,
       "width": 352
      },
      "needs_background": "light"
     },
     "output_type": "display_data"
    }
   ],
   "source": [
    "# Распределение группы 2\n",
    "sns.displot(glob_ctr_group_2, kde = False, bins = 100);\n",
    "print(glob_ctr_group_2.quantile(0.05),\n",
    "      glob_ctr_group_2.mean(),\n",
    "      glob_ctr_group_2.quantile(0.95))"
   ]
  },
  {
   "cell_type": "code",
   "execution_count": 12,
   "id": "55207854-0dec-447e-83bc-5d1f2fe58b84",
   "metadata": {},
   "outputs": [
    {
     "data": {
      "text/plain": [
       "Ttest_indResult(statistic=130.59182998455395, pvalue=0.0)"
      ]
     },
     "execution_count": 12,
     "metadata": {},
     "output_type": "execute_result"
    }
   ],
   "source": [
    "# Сравнение параметричиским T-тестом\n",
    "stats.ttest_ind(glob_ctr_group_1, glob_ctr_group_2, equal_var = False, alternative='greater')"
   ]
  },
  {
   "cell_type": "code",
   "execution_count": 13,
   "id": "93550b48-5cc7-4a45-b060-b406ce26249f",
   "metadata": {},
   "outputs": [
    {
     "data": {
      "text/plain": [
       "MannwhitneyuResult(statistic=1000000.0, pvalue=0.0)"
      ]
     },
     "execution_count": 13,
     "metadata": {},
     "output_type": "execute_result"
    }
   ],
   "source": [
    "# Сравнение непараметричиским U-критерием Манна — Уитни\n",
    "stats.mannwhitneyu(glob_ctr_group_1, glob_ctr_group_2, alternative='greater')"
   ]
  },
  {
   "cell_type": "code",
   "execution_count": 14,
   "id": "fe4e3524-982b-4a2c-b8e4-6123fd3a0269",
   "metadata": {},
   "outputs": [
    {
     "name": "stdout",
     "output_type": "stream",
     "text": [
      "0.20643573534600823 0.2130076370371031 0.20956872275111557\n",
      "0.1942994597626858 0.20543473640101298 0.2001732239002406\n"
     ]
    }
   ],
   "source": [
    "# Выборки не пересекаются\n",
    "print(glob_ctr_group_1.min(), glob_ctr_group_1.max(), glob_ctr_group_1.mean())\n",
    "print(glob_ctr_group_2.min(), glob_ctr_group_2.max(), glob_ctr_group_2.mean())"
   ]
  },
  {
   "cell_type": "code",
   "execution_count": 15,
   "id": "e7b54f68",
   "metadata": {},
   "outputs": [
    {
     "data": {
      "image/png": "[encoded data removed]",
      "text/plain": [
       "<Figure size 432x288 with 1 Axes>"
      ]
     },
     "metadata": {
      "image/png": {
       "height": 248,
       "width": 388
      },
      "needs_background": "light"
     },
     "output_type": "display_data"
    }
   ],
   "source": [
    "# Построим оба распределения на одной гистограмме\n",
    "sns.histplot(glob_ctr_group_1)\n",
    "sns.histplot(glob_ctr_group_2);"
   ]
  },
  {
   "cell_type": "code",
   "execution_count": 16,
   "id": "b57be2ff",
   "metadata": {},
   "outputs": [
    {
     "data": {
      "image/png": "[encoded data removed]",
      "text/plain": [
       "<Figure size 432x288 with 1 Axes>"
      ]
     },
     "metadata": {
      "image/png": {
       "height": 248,
       "width": 392
      },
      "needs_background": "light"
     },
     "output_type": "display_data"
    }
   ],
   "source": [
    "# построим распределение разницы глобального CTR\n",
    "sns.histplot(glob_ctr_group_1-glob_ctr_group_2);"
   ]
  },
  {
   "cell_type": "markdown",
   "id": "760dd772-915c-4f4e-b7d3-9986ca4db961",
   "metadata": {},
   "source": [
    "Используя метод bootstrap мы получили распределения общего CTR для групп 1 и 2. \n",
    "Оба критерия однозначно показывают p-value = 0, что не позволяет \n",
    "сделать обоснованный вывод, чтобы отвергнуть нулевую гипотезу и принять альтернативную гипотезу. \n",
    "\n",
    "**Вывод:** Поскольку p-value = 0 и выборки не пересекаются, а распределение разницы распологается правее 0 и положительно глобальный CTR в контрольной группе больше, чем в экпериментальной группе."
   ]
  },
  {
   "cell_type": "markdown",
   "id": "a5396225",
   "metadata": {},
   "source": [
    "**Метод 3.** Пуассоновский бутстреп для подсчета разницы в CTR"
   ]
  },
  {
   "cell_type": "code",
   "execution_count": 17,
   "id": "1a05ed7e",
   "metadata": {},
   "outputs": [],
   "source": [
    "def bootstrap(likes1, views1, likes2, views2, n_bootstrap=2000):\n",
    "    poisson_bootstraps1 = stats.poisson(1).rvs(\n",
    "                    (n_bootstrap, len(likes1))).astype(np.int64)\n",
    "    poisson_bootstraps2 = stats.poisson(1).rvs(\n",
    "                    (n_bootstrap, len(likes2))).astype(np.int64)\n",
    "    globalCTR1 = (poisson_bootstraps1*likes1).sum(axis=1)/(poisson_bootstraps1*views1).sum(axis=1)\n",
    "    globalCTR2 = (poisson_bootstraps2*likes2).sum(axis=1)/(poisson_bootstraps2*views2).sum(axis=1)\n",
    "    return globalCTR1, globalCTR2"
   ]
  },
  {
   "cell_type": "code",
   "execution_count": 18,
   "id": "4fbb67c5",
   "metadata": {},
   "outputs": [],
   "source": [
    "likes1 = df[df.exp_group == 1].like.to_numpy()\n",
    "views1 = df[df.exp_group == 1].view.to_numpy()\n",
    "likes2 = df[df.exp_group == 2].like.to_numpy()\n",
    "views2 = df[df.exp_group == 2].view.to_numpy()"
   ]
  },
  {
   "cell_type": "code",
   "execution_count": 19,
   "id": "f53a6504",
   "metadata": {},
   "outputs": [
    {
     "data": {
      "image/png": "[encoded data removed]",
      "text/plain": [
       "<Figure size 432x288 with 1 Axes>"
      ]
     },
     "metadata": {
      "image/png": {
       "height": 248,
       "width": 397
      },
      "needs_background": "light"
     },
     "output_type": "display_data"
    }
   ],
   "source": [
    "ctr1, ctr2 = bootstrap(likes1, views1, likes2, views2)\n",
    "sns.histplot(ctr1)\n",
    "sns.histplot(ctr2);"
   ]
  },
  {
   "cell_type": "code",
   "execution_count": 20,
   "id": "5c1aa019",
   "metadata": {},
   "outputs": [
    {
     "data": {
      "text/plain": [
       "0.20961593172228576"
      ]
     },
     "execution_count": 20,
     "metadata": {},
     "output_type": "execute_result"
    }
   ],
   "source": [
    "ctr1.mean()"
   ]
  },
  {
   "cell_type": "code",
   "execution_count": 21,
   "id": "0b7bff24",
   "metadata": {},
   "outputs": [
    {
     "data": {
      "text/plain": [
       "0.20021299695872335"
      ]
     },
     "execution_count": 21,
     "metadata": {},
     "output_type": "execute_result"
    }
   ],
   "source": [
    "ctr2.mean()"
   ]
  },
  {
   "cell_type": "code",
   "execution_count": 22,
   "id": "26e78914",
   "metadata": {},
   "outputs": [
    {
     "data": {
      "text/plain": [
       "0.00940293476356241"
      ]
     },
     "execution_count": 22,
     "metadata": {},
     "output_type": "execute_result"
    }
   ],
   "source": [
    "# Разница\n",
    "diff = ctr1.mean()-ctr2.mean()\n",
    "diff"
   ]
  },
  {
   "cell_type": "markdown",
   "id": "f8301353",
   "metadata": {},
   "source": [
    "Мы видим, что групповой CTR тестовой группы ниже, чем контрольной."
   ]
  },
  {
   "cell_type": "code",
   "execution_count": 23,
   "id": "e2a37139",
   "metadata": {},
   "outputs": [
    {
     "data": {
      "image/png": "[encoded data removed]",
      "text/plain": [
       "<Figure size 432x288 with 1 Axes>"
      ]
     },
     "metadata": {
      "image/png": {
       "height": 248,
       "width": 397
      },
      "needs_background": "light"
     },
     "output_type": "display_data"
    }
   ],
   "source": [
    "#Разница между глобальными CTR\n",
    "sns.histplot(ctr2 - ctr1);"
   ]
  },
  {
   "cell_type": "markdown",
   "id": "c47b5e09-7586-4767-8f46-c9b8f7e408aa",
   "metadata": {},
   "source": [
    "Мы видим, что разность не пересекает 0 и имеет отрицательные значения. Это значит, что одна группа строго больше другой. Выходит, что групповой CTR контрольной группы больше,чем тестовой."
   ]
  },
  {
   "cell_type": "markdown",
   "id": "2fdfc0d8",
   "metadata": {},
   "source": [
    "**Метод 4.** Бакетный метод. T-тест и тест Манна-Уитни поверх бакетного преобразования."
   ]
  },
  {
   "cell_type": "code",
   "execution_count": 24,
   "id": "3de49f01",
   "metadata": {},
   "outputs": [
    {
     "data": {
      "text/html": [
       "<div>\n",
       "<style scoped>\n",
       "    .dataframe tbody tr th:only-of-type {\n",
       "        vertical-align: middle;\n",
       "    }\n",
       "\n",
       "    .dataframe tbody tr th {\n",
       "        vertical-align: top;\n",
       "    }\n",
       "\n",
       "    .dataframe thead th {\n",
       "        text-align: right;\n",
       "    }\n",
       "</style>\n",
       "<table border=\"1\" class=\"dataframe\">\n",
       "  <thead>\n",
       "    <tr style=\"text-align: right;\">\n",
       "      <th></th>\n",
       "      <th>exp_group</th>\n",
       "      <th>bucket</th>\n",
       "      <th>bucket_ctr</th>\n",
       "    </tr>\n",
       "  </thead>\n",
       "  <tbody>\n",
       "    <tr>\n",
       "      <th>0</th>\n",
       "      <td>1</td>\n",
       "      <td>0</td>\n",
       "      <td>0.20</td>\n",
       "    </tr>\n",
       "    <tr>\n",
       "      <th>1</th>\n",
       "      <td>2</td>\n",
       "      <td>0</td>\n",
       "      <td>0.20</td>\n",
       "    </tr>\n",
       "    <tr>\n",
       "      <th>2</th>\n",
       "      <td>1</td>\n",
       "      <td>1</td>\n",
       "      <td>0.21</td>\n",
       "    </tr>\n",
       "    <tr>\n",
       "      <th>3</th>\n",
       "      <td>2</td>\n",
       "      <td>1</td>\n",
       "      <td>0.21</td>\n",
       "    </tr>\n",
       "    <tr>\n",
       "      <th>4</th>\n",
       "      <td>1</td>\n",
       "      <td>2</td>\n",
       "      <td>0.20</td>\n",
       "    </tr>\n",
       "    <tr>\n",
       "      <th>...</th>\n",
       "      <td>...</td>\n",
       "      <td>...</td>\n",
       "      <td>...</td>\n",
       "    </tr>\n",
       "    <tr>\n",
       "      <th>95</th>\n",
       "      <td>2</td>\n",
       "      <td>47</td>\n",
       "      <td>0.20</td>\n",
       "    </tr>\n",
       "    <tr>\n",
       "      <th>96</th>\n",
       "      <td>1</td>\n",
       "      <td>48</td>\n",
       "      <td>0.22</td>\n",
       "    </tr>\n",
       "    <tr>\n",
       "      <th>97</th>\n",
       "      <td>2</td>\n",
       "      <td>48</td>\n",
       "      <td>0.19</td>\n",
       "    </tr>\n",
       "    <tr>\n",
       "      <th>98</th>\n",
       "      <td>1</td>\n",
       "      <td>49</td>\n",
       "      <td>0.21</td>\n",
       "    </tr>\n",
       "    <tr>\n",
       "      <th>99</th>\n",
       "      <td>2</td>\n",
       "      <td>49</td>\n",
       "      <td>0.19</td>\n",
       "    </tr>\n",
       "  </tbody>\n",
       "</table>\n",
       "<p>100 rows × 3 columns</p>\n",
       "</div>"
      ],
      "text/plain": [
       "    exp_group  bucket  bucket_ctr\n",
       "0           1       0        0.20\n",
       "1           2       0        0.20\n",
       "2           1       1        0.21\n",
       "3           2       1        0.21\n",
       "4           1       2        0.20\n",
       "..        ...     ...         ...\n",
       "95          2      47        0.20\n",
       "96          1      48        0.22\n",
       "97          2      48        0.19\n",
       "98          1      49        0.21\n",
       "99          2      49        0.19\n",
       "\n",
       "[100 rows x 3 columns]"
      ]
     },
     "execution_count": 24,
     "metadata": {},
     "output_type": "execute_result"
    }
   ],
   "source": [
    "q = \"\"\"\n",
    "\n",
    "SELECT exp_group, \n",
    "       bucket,\n",
    "       sum(likes)/sum(views) as bucket_ctr\n",
    "FROM (SELECT exp_group, \n",
    "             xxHash64(user_id)%50 as bucket,\n",
    "             user_id,\n",
    "             countIf(user_id, action = 'like' ) as likes,\n",
    "             countIf(user_id, action = 'view' ) as views,\n",
    "             likes/views as ctr\n",
    "      FROM simulator_20240120.feed_actions \n",
    "      WHERE (toDate(time) >= '2023-12-29' AND toDate(time) <= '2024-01-04' \n",
    "             and exp_group in [1,2])\n",
    "      GROUP BY exp_group, bucket, user_id)\n",
    "GROUP BY exp_group, bucket;\n",
    "\"\"\"\n",
    "\n",
    "df1 = pandahouse.read_clickhouse(q, connection=connection)\n",
    "df1"
   ]
  },
  {
   "cell_type": "code",
   "execution_count": 25,
   "id": "614e0187",
   "metadata": {},
   "outputs": [
    {
     "data": {
      "image/png": "[encoded data removed]",
      "text/plain": [
       "<Figure size 360x360 with 1 Axes>"
      ]
     },
     "metadata": {
      "image/png": {
       "height": 351,
       "width": 352
      },
      "needs_background": "light"
     },
     "output_type": "display_data"
    }
   ],
   "source": [
    "sns.displot(df1[df1.exp_group == 1].bucket_ctr, bins = 10);"
   ]
  },
  {
   "cell_type": "code",
   "execution_count": 26,
   "id": "c5df7421",
   "metadata": {},
   "outputs": [
    {
     "data": {
      "image/png": "[encoded data removed]",
      "text/plain": [
       "<Figure size 360x360 with 1 Axes>"
      ]
     },
     "metadata": {
      "image/png": {
       "height": 351,
       "width": 352
      },
      "needs_background": "light"
     },
     "output_type": "display_data"
    }
   ],
   "source": [
    "sns.displot(df1[df1.exp_group == 2].bucket_ctr, bins = 10);"
   ]
  },
  {
   "cell_type": "code",
   "execution_count": 27,
   "id": "141cedf2",
   "metadata": {},
   "outputs": [
    {
     "data": {
      "text/plain": [
       "MannwhitneyuResult(statistic=1997.0, pvalue=1.3288213902005047e-07)"
      ]
     },
     "execution_count": 27,
     "metadata": {},
     "output_type": "execute_result"
    }
   ],
   "source": [
    "#тест Манна-Уитни видит отличие\n",
    "stats.mannwhitneyu(df1[df1.exp_group == 1].bucket_ctr, \n",
    "                   df1[df1.exp_group == 2].bucket_ctr, \n",
    "                   alternative='greater')"
   ]
  },
  {
   "cell_type": "code",
   "execution_count": 28,
   "id": "2b859105",
   "metadata": {},
   "outputs": [
    {
     "data": {
      "text/plain": [
       "Ttest_indResult(statistic=5.614819358149381, pvalue=2.2963224687369365e-07)"
      ]
     },
     "execution_count": 28,
     "metadata": {},
     "output_type": "execute_result"
    }
   ],
   "source": [
    "#и t-тест тоже\n",
    "\n",
    "stats.ttest_ind(df1[df1.exp_group == 1].bucket_ctr, \n",
    "                   df1[df1.exp_group == 2].bucket_ctr, \n",
    "                   equal_var = False, alternative='greater')"
   ]
  },
  {
   "cell_type": "markdown",
   "id": "4425e077-13c6-4591-b287-0ad221fd84c7",
   "metadata": {},
   "source": [
    "Используя Бакетный метод, T-тест и тест Манна-Уитни поверх бакетного преобразования мы получили распределения бакетного CTR для групп 1 и 2. Визуально CTR в экпериментальной группе - ниже.\n",
    "Оба критерия однозначно показывают p-value значительно < 0.05, что позволяет \n",
    "нам отвергнуть нулевую гипотезу и принять альтернативную гипотезу. \n",
    "\n",
    "**Вывод:** средние значения CTR в экпериментальной группе могут быть не равны и меньше контрольной группы для уровня значимости 0.05."
   ]
  },
  {
   "cell_type": "markdown",
   "id": "e155de84",
   "metadata": {},
   "source": [
    "Проверим, что новый алгоритм не привел к тому, что сократилось число просмотров у пользователей."
   ]
  },
  {
   "cell_type": "code",
   "execution_count": 29,
   "id": "7f4232ff-3b7f-4b31-beec-6445807005b7",
   "metadata": {},
   "outputs": [
    {
     "name": "stdout",
     "output_type": "stream",
     "text": [
      "66.82065868263473\n"
     ]
    },
    {
     "data": {
      "image/png": "[encoded data removed]",
      "text/plain": [
       "<Figure size 360x360 with 1 Axes>"
      ]
     },
     "metadata": {
      "image/png": {
       "height": 351,
       "width": 352
      },
      "needs_background": "light"
     },
     "output_type": "display_data"
    }
   ],
   "source": [
    "# Распределение просмотров в группе 1\n",
    "print(df[df.exp_group == 1].view.mean())\n",
    "sns.displot(df[df.exp_group == 1].view);"
   ]
  },
  {
   "cell_type": "code",
   "execution_count": 30,
   "id": "7497971a-0249-41c1-a116-f36b4cc59d59",
   "metadata": {},
   "outputs": [
    {
     "name": "stdout",
     "output_type": "stream",
     "text": [
      "66.76662954338362\n"
     ]
    },
    {
     "data": {
      "image/png": "[encoded data removed]",
      "text/plain": [
       "<Figure size 360x360 with 1 Axes>"
      ]
     },
     "metadata": {
      "image/png": {
       "height": 351,
       "width": 353
      },
      "needs_background": "light"
     },
     "output_type": "display_data"
    }
   ],
   "source": [
    "# Распределение просмотров в группе 2\n",
    "print(df[df.exp_group == 2].view.mean())\n",
    "sns.displot(df[df.exp_group == 2].view);"
   ]
  },
  {
   "cell_type": "markdown",
   "id": "d191c5ff",
   "metadata": {},
   "source": [
    "Распределение далеко от нормального, поэтому сравнение выборок пока возможно провести только непараметрическими методами. Для возможности работы с таким распределением поможет логарифмирование."
   ]
  },
  {
   "cell_type": "code",
   "execution_count": 31,
   "id": "ecb8c618-9461-4f15-ae2e-96ece63f4a99",
   "metadata": {},
   "outputs": [
    {
     "data": {
      "image/png": "[encoded data removed]",
      "text/plain": [
       "<Figure size 360x360 with 1 Axes>"
      ]
     },
     "metadata": {
      "image/png": {
       "height": 351,
       "width": 352
      },
      "needs_background": "light"
     },
     "output_type": "display_data"
    }
   ],
   "source": [
    "sns.displot(np.log(df[df.exp_group == 1].view));"
   ]
  },
  {
   "cell_type": "code",
   "execution_count": 32,
   "id": "48214ebb-b351-4fdf-8493-84cbac2e8357",
   "metadata": {},
   "outputs": [
    {
     "data": {
      "image/png": "[encoded data removed]",
      "text/plain": [
       "<Figure size 360x360 with 1 Axes>"
      ]
     },
     "metadata": {
      "image/png": {
       "height": 351,
       "width": 352
      },
      "needs_background": "light"
     },
     "output_type": "display_data"
    }
   ],
   "source": [
    "sns.displot(np.log(df[df.exp_group == 2].view));"
   ]
  },
  {
   "cell_type": "markdown",
   "id": "350541c0",
   "metadata": {},
   "source": [
    "Распределения в обоих группах стали заметно больше походить на нормальные. Хотя и далеки от идеального, попробуем поработать с ними."
   ]
  },
  {
   "cell_type": "markdown",
   "id": "3cc70dff",
   "metadata": {},
   "source": [
    "$\\blacktriangleright$ Выдвинем новую гипотезу, что в группе 2 в сравнении с группой 1 уменьшилось число просмотров:"
   ]
  },
  {
   "cell_type": "markdown",
   "id": "ee95a7f7-4da5-40af-beca-43e1b650f9bb",
   "metadata": {},
   "source": [
    "$H_0:\\text{число просмотров в экспериментальной группе равно числу просмотров в контрольной}$.\n",
    "\n",
    "$H_1:\\text{число просмотров в экспериментальной группе больше, чем в контрольной}$. "
   ]
  },
  {
   "cell_type": "markdown",
   "id": "ea89f1ec",
   "metadata": {},
   "source": [
    "***Пороговое значение p-value:*** 0.05"
   ]
  },
  {
   "cell_type": "code",
   "execution_count": 33,
   "id": "a4afc2d8-5e96-4881-9b0d-a77630a3467c",
   "metadata": {},
   "outputs": [
    {
     "data": {
      "text/plain": [
       "MannwhitneyuResult(statistic=49575968.0, pvalue=0.5900227429840672)"
      ]
     },
     "execution_count": 33,
     "metadata": {},
     "output_type": "execute_result"
    }
   ],
   "source": [
    "# Сравнение непараметричиским U-критерием Манна — Уитни\n",
    "stats.mannwhitneyu(np.log(df[df.exp_group == 1].view), np.log(df[df.exp_group == 2].view), alternative = 'less')"
   ]
  },
  {
   "cell_type": "code",
   "execution_count": 34,
   "id": "d0cc511a-ad87-4426-b09b-d7a5fe63797c",
   "metadata": {},
   "outputs": [
    {
     "data": {
      "text/plain": [
       "Ttest_indResult(statistic=0.39136914776041026, pvalue=0.6522357063063101)"
      ]
     },
     "execution_count": 34,
     "metadata": {},
     "output_type": "execute_result"
    }
   ],
   "source": [
    "# Сравнение параметричиским T-тестом\n",
    "stats.ttest_ind(np.log(df[df.exp_group == 1].view), np.log(df[df.exp_group == 2].view), \n",
    "                equal_var = False, alternative = 'less')"
   ]
  },
  {
   "cell_type": "markdown",
   "id": "dbdaeb45",
   "metadata": {},
   "source": [
    "Результаты сравнения количества просмотров в группах 1 и 2 критерием Манна-Уитни и t-тестом, со соответствующими значениями p-value, превышающими пороговое значение 0.05, не позволяют отвергнуть нулевую гипотезу. \\\n",
    "**Вывод:** новый алгоритм не привел к снижению количества просмотров в экспериментальной группе."
   ]
  },
  {
   "cell_type": "markdown",
   "id": "a59a189a",
   "metadata": {},
   "source": [
    "**Задача 3.**\n",
    "Почему тесты сработали именно так? Опишите потенциальную ситуацию, когда такое изменение могло произойти. Тут нет идеального ответа, подумайте."
   ]
  },
  {
   "cell_type": "markdown",
   "id": "da9fc988",
   "metadata": {},
   "source": [
    "Соберем необходимую информацию по группам 1 и 2"
   ]
  },
  {
   "cell_type": "code",
   "execution_count": 35,
   "id": "dc5f2a43",
   "metadata": {},
   "outputs": [
    {
     "name": "stdout",
     "output_type": "stream",
     "text": [
      "n_1: 10020 std_1: 0.08296449184498103 mean_1: 0.216773994120072\n"
     ]
    }
   ],
   "source": [
    "# Информация по группе 1\n",
    "n_1 = df[df.exp_group == 1].shape[0]\n",
    "std_1 = np.std(df[df.exp_group == 1].ctr)\n",
    "mean_1 = np.mean(df[df.exp_group == 1].ctr)\n",
    "print('n_1:', n_1,'std_1:', std_1, 'mean_1:', mean_1)"
   ]
  },
  {
   "cell_type": "code",
   "execution_count": 36,
   "id": "0ac82cb0",
   "metadata": {},
   "outputs": [
    {
     "name": "stdout",
     "output_type": "stream",
     "text": [
      "n_2: 9877 std_2: 0.14286283452772028 mean_2: 0.2161016893237817\n"
     ]
    }
   ],
   "source": [
    "# Информация по группе 2\n",
    "n_2 = df[df.exp_group == 2].shape[0]\n",
    "std_2 = np.std(df[df.exp_group == 2].ctr)\n",
    "mean_2 = np.mean(df[df.exp_group == 2].ctr)\n",
    "print('n_2:', n_2,'std_2:', std_2, 'mean_2:', mean_2)"
   ]
  },
  {
   "cell_type": "code",
   "execution_count": 37,
   "id": "b6433412",
   "metadata": {},
   "outputs": [
    {
     "data": {
      "text/plain": [
       "0.9857285429141717"
      ]
     },
     "execution_count": 37,
     "metadata": {},
     "output_type": "execute_result"
    }
   ],
   "source": [
    "ratio = n_2 / n_1\n",
    "ratio"
   ]
  },
  {
   "cell_type": "markdown",
   "id": "c85c8080",
   "metadata": {},
   "source": [
    "**При помощи библиотеки метода TTestIndPower попробуем оценить какой размер выборки нам потребуется, при условии:**\n",
    "* размер эффекта = 0.008,\n",
    "* мощность эффекта = 0.8\n",
    "* для сравнения используем t-test "
   ]
  },
  {
   "cell_type": "code",
   "execution_count": 38,
   "id": "7222b58f",
   "metadata": {},
   "outputs": [
    {
     "data": {
      "text/plain": [
       "247053.43108798563"
      ]
     },
     "execution_count": 38,
     "metadata": {},
     "output_type": "execute_result"
    }
   ],
   "source": [
    "# Необходимый размер выборки\n",
    "sample_size = TTestIndPower().solve_power(effect_size = 0.008, power = 0.8, alpha = 0.05, ratio=ratio)\n",
    "sample_size"
   ]
  },
  {
   "cell_type": "markdown",
   "id": "c20f7f5e",
   "metadata": {},
   "source": [
    "**Рассчитаем чему оказался равен размер эффекта в нашем проведенном АB-тесте**"
   ]
  },
  {
   "cell_type": "code",
   "execution_count": 39,
   "id": "feb38d05",
   "metadata": {},
   "outputs": [
    {
     "data": {
      "text/plain": [
       "-0.005765424969175727"
      ]
     },
     "execution_count": 39,
     "metadata": {},
     "output_type": "execute_result"
    }
   ],
   "source": [
    "# Рассчитаем меру эффекта (стандартизированная средняя разница)\n",
    "effect_size_AB = (mean_2 - mean_1) / ( ((n_2 - 1) * std_2**2 + (n_1 - 1) * std_1**2) / (n_2 + n_1 - 2) )**0.5\n",
    "effect_size_AB"
   ]
  },
  {
   "cell_type": "markdown",
   "id": "f70f1c5a-adf6-447f-a37e-5e6a893e70d7",
   "metadata": {},
   "source": [
    "Самые первые тесты сработали по разному, потому что разница средних в наших группах порядка 0.005-0.008 для определения такого эффекта Т - тестом выборка должна быть размером примерно 250 тысяч. Именно поэтому мы наблюдаем такие разные результаты в тестах. Лучше всех сработал в нашем случае бутстреп. "
   ]
  },
  {
   "cell_type": "markdown",
   "id": "1a7a623b",
   "metadata": {},
   "source": [
    "**Задача 4. Написать рекомендацию, будем ли мы раскатывать новый алгоритм на всех новых пользователей.**"
   ]
  },
  {
   "cell_type": "markdown",
   "id": "bda4f85f-7c2d-4637-8f62-d2e365e0018e",
   "metadata": {},
   "source": [
    "### ВЫВОД\n",
    "По результатам A/B теста, проходившего с 2023-12-29 по 2024-01-04 включительно на группах 1 и 2, был получен статистически значимый, но противоречивый результат: CTR в экспериментальной группе по Т-тесту не увеличилось, по бакетному и бутстреп тесту - уменьшилось. При этом изменение CTR очень маленькое порядка 0.005-0.008. Чувствительности Т - теста оказалось недостаточно для такой разности. Количество просмотров в экспериментальной группе при этом не изменилось. По распределению CTR эспериментальной группы видно, что CTR как бы распределился между двумя группами пользователей, у одних увеличился, у других уменьшился. Раскатывать новый алгоритм в проде на всех пользователей не рекомендую, необходимо провести дополнительные тесты на больших размерах выборок и изучить причины увеличения CTR у определенной группы пользователей."
   ]
  }
 ],
 "metadata": {
  "kernelspec": {
   "display_name": "Python 3 (ipykernel)",
   "language": "python",
   "name": "python3"
  },
  "language_info": {
   "codemirror_mode": {
    "name": "ipython",
    "version": 3
   },
   "file_extension": ".py",
   "mimetype": "text/x-python",
   "name": "python",
   "nbconvert_exporter": "python",
   "pygments_lexer": "ipython3",
   "version": "3.8.10"
  }
 },
 "nbformat": 4,
 "nbformat_minor": 5
}
